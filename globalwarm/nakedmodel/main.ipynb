{
 "cells": [
  {
   "cell_type": "markdown",
   "metadata": {},
   "source": [
    "# Naked Planet Model"
   ]
  },
  {
   "cell_type": "markdown",
   "metadata": {},
   "source": [
    "### Constants"
   ]
  },
  {
   "cell_type": "code",
   "execution_count": 23,
   "metadata": {},
   "outputs": [],
   "source": [
    "timeStep = 100            # years\n",
    "waterDepth = 4000        # meters\n",
    "L = 1350                 # Watts/m2\n",
    "albedo = 0.3\n",
    "epsilon = 1\n",
    "sigma = 5.67E-8          # W/m2 K4"
   ]
  },
  {
   "cell_type": "markdown",
   "metadata": {},
   "source": [
    "## Simulation"
   ]
  },
  {
   "cell_type": "code",
   "execution_count": 24,
   "metadata": {},
   "outputs": [
    {
     "name": "stdout",
     "output_type": "stream",
     "text": [
      "100 0.0\n",
      "200 0.21555186906704765\n",
      "300 3.442540862251764\n",
      "400 17.102021361091836\n",
      "500 50.489765216037654\n",
      "600 105.04046322600912\n",
      "700 164.22720756407347\n",
      "800 205.79316507189245\n",
      "900 225.55888546167517\n",
      "1000 232.82368803549306\n",
      "1100 235.18863315833954\n",
      "1200 235.92486240915517\n",
      "1300 236.1507432816602\n",
      "1400 236.2197316056644\n",
      "1500 236.24077264269152\n",
      "1600 236.24718730832097\n",
      "1700 236.24914265867207\n",
      "1800 236.2497386747474\n",
      "1900 236.24992034596593\n",
      "2000 236.249975720832\n",
      "2100 236.24999259952307\n",
      "2200 236.24999774427786\n",
      "2300 236.24999931243866\n",
      "2400 236.24999979042602\n",
      "2500 236.24999993612013\n",
      "2600 236.24999998052894\n",
      "2700 236.24999999406504\n",
      "2800 236.24999999819096\n",
      "2900 236.24999999944853\n",
      "3000 236.24999999983186\n",
      "3100 236.2499999999487\n",
      "3200 236.2499999999844\n",
      "3300 236.2499999999952\n",
      "3400 236.24999999999858\n",
      "3500 236.24999999999952\n",
      "3600 236.24999999999986\n",
      "3700 236.24999999999994\n",
      "3800 236.24999999999994\n",
      "3900 236.24999999999994\n",
      "4000 236.24999999999994\n",
      "4100 236.24999999999994\n",
      "4200 236.24999999999994\n",
      "4300 236.24999999999994\n",
      "4400 236.24999999999994\n",
      "4500 236.24999999999994\n",
      "4600 236.24999999999994\n",
      "4700 236.24999999999994\n",
      "4800 236.24999999999994\n",
      "4900 236.24999999999994\n",
      "5000 236.24999999999994\n",
      "5100 236.24999999999994\n",
      "5200 236.24999999999994\n",
      "5300 236.24999999999994\n",
      "5400 236.24999999999994\n",
      "5500 236.24999999999994\n",
      "5600 236.24999999999994\n",
      "5700 236.24999999999994\n",
      "5800 236.24999999999994\n",
      "5900 236.24999999999994\n",
      "6000 236.24999999999994\n",
      "6100 236.24999999999994\n",
      "6200 236.24999999999994\n",
      "6300 236.24999999999994\n",
      "6400 236.24999999999994\n",
      "6500 236.24999999999994\n",
      "6600 236.24999999999994\n",
      "6700 236.24999999999994\n",
      "6800 236.24999999999994\n",
      "6900 236.24999999999994\n",
      "7000 236.24999999999994\n",
      "7100 236.24999999999994\n",
      "7200 236.24999999999994\n",
      "7300 236.24999999999994\n",
      "7400 236.24999999999994\n",
      "7500 236.24999999999994\n",
      "7600 236.24999999999994\n",
      "7700 236.24999999999994\n",
      "7800 236.24999999999994\n",
      "7900 236.24999999999994\n",
      "8000 236.24999999999994\n",
      "8100 236.24999999999994\n",
      "8200 236.24999999999994\n",
      "8300 236.24999999999994\n",
      "8400 236.24999999999994\n",
      "8500 236.24999999999994\n",
      "8600 236.24999999999994\n",
      "8700 236.24999999999994\n",
      "8800 236.24999999999994\n",
      "8900 236.24999999999994\n",
      "9000 236.24999999999994\n",
      "9100 236.24999999999994\n",
      "9200 236.24999999999994\n",
      "9300 236.24999999999994\n",
      "9400 236.24999999999994\n",
      "9500 236.24999999999994\n",
      "9600 236.24999999999994\n",
      "9700 236.24999999999994\n",
      "9800 236.24999999999994\n",
      "9900 236.24999999999994\n",
      "10000 236.24999999999994\n",
      "254.06637407730736 236.24999999999994\n"
     ]
    }
   ],
   "source": [
    "\n",
    "heat_capacity = waterDepth* 4.2E6\n",
    "time_list = [0]\n",
    "TK = [0,]\n",
    "heat_content = heat_capacity*TK[0]\n",
    "heat_in = L * (1 - albedo)/4\n",
    "heat_out = 0\n",
    "n = int(input(\"\"))\n",
    "\n",
    "for itime in range(0,n):\n",
    "  time_list.append(timeStep + time_list[-1])\n",
    "  heat_out = epsilon * sigma * pow(TK[-1],4)\n",
    "  print(time_list[-1], heat_out)\n",
    "  heat_content = heat_content + (heat_in-heat_out) * timeStep * 3.14e7\n",
    "  TK.append(heat_content/heat_capacity)\n",
    "\n",
    "print(TK[-1], heat_out)"
   ]
  },
  {
   "cell_type": "markdown",
   "metadata": {},
   "source": [
    "## Plotting"
   ]
  },
  {
   "cell_type": "code",
   "execution_count": 25,
   "metadata": {},
   "outputs": [
    {
     "data": {
      "image/png": "[encoded data removed]",
      "text/plain": [
       "<Figure size 144x144 with 1 Axes>"
      ]
     },
     "metadata": {
      "needs_background": "light"
     },
     "output_type": "display_data"
    }
   ],
   "source": [
    "import numpy\n",
    "import matplotlib.pyplot as plt\n",
    "\n",
    "plt.style.use('_mpl-gallery')\n",
    "\n",
    "fig, ax = plt.subplots()\n",
    "ax.plot(time_list, TK)\n",
    "ax.set_xlabel(\"Years\")\n",
    "ax.set_ylabel(\"Temperature\")\n",
    "plt.show()"
   ]
  }
 ],
 "metadata": {
  "interpreter": {
   "hash": "916dbcbb3f70747c44a77c7bcd40155683ae19c65e1c03b4aa3499c5328201f1"
  },
  "kernelspec": {
   "display_name": "Python 3.8.10 64-bit",
   "language": "python",
   "name": "python3"
  },
  "language_info": {
   "codemirror_mode": {
    "name": "ipython",
    "version": 3
   },
   "file_extension": ".py",
   "mimetype": "text/x-python",
   "name": "python",
   "nbconvert_exporter": "python",
   "pygments_lexer": "ipython3",
   "version": "3.8.10"
  },
  "orig_nbformat": 4
 },
 "nbformat": 4,
 "nbformat_minor": 2
}
